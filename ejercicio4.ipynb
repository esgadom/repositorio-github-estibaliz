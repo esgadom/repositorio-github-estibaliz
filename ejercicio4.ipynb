{
 "cells": [
  {
   "attachments": {},
   "cell_type": "markdown",
   "metadata": {},
   "source": [
    ". Vamos a crear un diccionario paso a paso. Lo definimos con cuatro keys que serán: \n",
    "nombres\n",
    "apellidos\n",
    "edades\n",
    "hijos\n",
    "\n",
    "Cada una de las keys tendrá un value que será una lista que iremos construyendo con inputs. Para crear los values seguid los pasos que os indicamos a continuación.\n",
    "Cread un input que pregunte a la usuaria por tres nombres. Almacenad el resultado en una lista. Esta lista será el value de la key nombres\n",
    "Cread un input que pregunte a la usuaria por tres apellidos. Convertir el resultado en lista y este será el value de la key apellidos.\n",
    "Cread un input que pregunte a la usuaria por tres edades. Almancenad los resultados en una lista. Esta lista será el value de la key edades.\n",
    "Cread un input que pregunte a la usuaria por el número de hijos. Almacenad este resultado en una lista. Esta lista será el value de la key hijos.\n",
    "Cread un diccionario con los resultados del input. Al final de todos estos pasos deberíamos tener un diccionario similar a este:\n",
    "{'nombres': ['Lara', ' Alejandro', ' Ana'],\n",
    "  'apellidos': ['Lopez', ' Martin', ' Solo'],\n",
    "  'edades': [34, 20, 28],\n",
    "  'hijos': [2, 0, 1]}"
   ]
  },
  {
   "cell_type": "code",
   "execution_count": 2,
   "metadata": {},
   "outputs": [
    {
     "name": "stdout",
     "output_type": "stream",
     "text": [
      "{'nombres': [], 'apellidos': [], 'edades': [], 'hijos': []}\n"
     ]
    }
   ],
   "source": [
    "diccionario = {'nombres': [], 'apellidos':[], 'edades':[], 'hijos':[]}\n",
    "print(diccionario)"
   ]
  },
  {
   "cell_type": "code",
   "execution_count": 5,
   "metadata": {},
   "outputs": [
    {
     "data": {
      "text/plain": [
       "['Ana', 'Pepa', 'Maria']"
      ]
     },
     "execution_count": 5,
     "metadata": {},
     "output_type": "execute_result"
    }
   ],
   "source": [
    "nombres_usuario = input('Dime tres nombres')\n",
    "nombres_usuario.split()"
   ]
  },
  {
   "cell_type": "code",
   "execution_count": 6,
   "metadata": {},
   "outputs": [],
   "source": [
    "apellidos_usuario = input('Dime tres apellidos')"
   ]
  },
  {
   "cell_type": "code",
   "execution_count": 7,
   "metadata": {},
   "outputs": [
    {
     "data": {
      "text/plain": [
       "['Gallego', 'Bernabeu', 'García']"
      ]
     },
     "execution_count": 7,
     "metadata": {},
     "output_type": "execute_result"
    }
   ],
   "source": [
    "apellidos_usuario.split()"
   ]
  },
  {
   "cell_type": "code",
   "execution_count": 8,
   "metadata": {},
   "outputs": [],
   "source": [
    "edades_usuario = input('Dime las edades de tres amigos')"
   ]
  },
  {
   "cell_type": "code",
   "execution_count": 9,
   "metadata": {},
   "outputs": [
    {
     "data": {
      "text/plain": [
       "['25', '30', '35']"
      ]
     },
     "execution_count": 9,
     "metadata": {},
     "output_type": "execute_result"
    }
   ],
   "source": [
    "edades_usuario.split()"
   ]
  },
  {
   "cell_type": "code",
   "execution_count": 20,
   "metadata": {},
   "outputs": [],
   "source": [
    "numero_hijos = input('Dime cuántos hijos tienes y dos de tus amigos')"
   ]
  },
  {
   "cell_type": "code",
   "execution_count": 21,
   "metadata": {},
   "outputs": [
    {
     "data": {
      "text/plain": [
       "['2', '3', '1']"
      ]
     },
     "execution_count": 21,
     "metadata": {},
     "output_type": "execute_result"
    }
   ],
   "source": [
    "numero_hijos.split()"
   ]
  },
  {
   "cell_type": "code",
   "execution_count": 29,
   "metadata": {},
   "outputs": [
    {
     "data": {
      "text/plain": [
       "{'nombres': ['Ana Pepa Maria'],\n",
       " 'apellidos': ['Gallego Bernabeu García'],\n",
       " 'edades': ['25 30 35'],\n",
       " 'hijos': ['2 3 1']}"
      ]
     },
     "execution_count": 29,
     "metadata": {},
     "output_type": "execute_result"
    }
   ],
   "source": [
    "# meted todos los datos en el diccionario # \n",
    "diccionario ['nombres'] = [nombres_usuario]\n",
    "diccionario\n"
   ]
  },
  {
   "cell_type": "code",
   "execution_count": 27,
   "metadata": {},
   "outputs": [
    {
     "data": {
      "text/plain": [
       "{'nombres': ['Ana Pepa Maria'],\n",
       " 'apellidos': ['Gallego Bernabeu García'],\n",
       " 'edades': ['25 30 35'],\n",
       " 'hijos': ['2 3 1']}"
      ]
     },
     "execution_count": 27,
     "metadata": {},
     "output_type": "execute_result"
    }
   ],
   "source": [
    "# utilizamos aqu\n",
    "diccionario.update({'apellidos':[apellidos_usuario]})\n",
    "diccionario"
   ]
  },
  {
   "cell_type": "code",
   "execution_count": 28,
   "metadata": {},
   "outputs": [
    {
     "data": {
      "text/plain": [
       "{'nombres': ['Ana Pepa Maria'],\n",
       " 'apellidos': ['Gallego Bernabeu García'],\n",
       " 'edades': ['25 30 35'],\n",
       " 'hijos': ['2 3 1']}"
      ]
     },
     "execution_count": 28,
     "metadata": {},
     "output_type": "execute_result"
    }
   ],
   "source": [
    "diccionario ['edades'] = [edades_usuario]\n",
    "diccionario"
   ]
  },
  {
   "cell_type": "code",
   "execution_count": 26,
   "metadata": {},
   "outputs": [
    {
     "data": {
      "text/plain": [
       "{'nombres': ['Ana Pepa Maria'],\n",
       " 'apellidos': ['Gallego Bernabeu García'],\n",
       " 'edades': ['25 30 35'],\n",
       " 'hijos': ['2 3 1']}"
      ]
     },
     "execution_count": 26,
     "metadata": {},
     "output_type": "execute_result"
    }
   ],
   "source": [
    "diccionario.update({'hijos':[numero_hijos]})\n",
    "diccionario"
   ]
  },
  {
   "attachments": {},
   "cell_type": "markdown",
   "metadata": {},
   "source": [
    ". Una vez tengáis creado el diccionario, añadid una nueva key donde tengamos la información sobre el número de hermanos."
   ]
  },
  {
   "cell_type": "code",
   "execution_count": 30,
   "metadata": {},
   "outputs": [],
   "source": [
    "numero_hermanos = input('Dime cántos hermanos tienes y cuántos tienen dos de tus amigos')"
   ]
  },
  {
   "cell_type": "code",
   "execution_count": 36,
   "metadata": {},
   "outputs": [
    {
     "data": {
      "text/plain": [
       "['1', '2', '4']"
      ]
     },
     "execution_count": 36,
     "metadata": {},
     "output_type": "execute_result"
    }
   ],
   "source": [
    "numero_hermanos.split()\n"
   ]
  },
  {
   "cell_type": "code",
   "execution_count": 37,
   "metadata": {},
   "outputs": [
    {
     "data": {
      "text/plain": [
       "{'nombres': ['Ana Pepa Maria'],\n",
       " 'apellidos': ['Gallego Bernabeu García'],\n",
       " 'edades': ['25 30 35'],\n",
       " 'hijos': ['2 3 1'],\n",
       " 'hermanos': ['1 2 4']}"
      ]
     },
     "execution_count": 37,
     "metadata": {},
     "output_type": "execute_result"
    }
   ],
   "source": [
    "diccionario.update({'hermanos':[numero_hermanos]})\n",
    "diccionario"
   ]
  },
  {
   "attachments": {},
   "cell_type": "markdown",
   "metadata": {},
   "source": [
    ". ¿Cúales son las keys de nuestro diccionario? ¿Y los values?"
   ]
  },
  {
   "cell_type": "code",
   "execution_count": 38,
   "metadata": {},
   "outputs": [
    {
     "data": {
      "text/plain": [
       "dict_keys(['nombres', 'apellidos', 'edades', 'hijos', 'hermanos'])"
      ]
     },
     "execution_count": 38,
     "metadata": {},
     "output_type": "execute_result"
    }
   ],
   "source": [
    "diccionario.keys()"
   ]
  },
  {
   "cell_type": "code",
   "execution_count": 39,
   "metadata": {},
   "outputs": [
    {
     "data": {
      "text/plain": [
       "dict_values([['Ana Pepa Maria'], ['Gallego Bernabeu García'], ['25 30 35'], ['2 3 1'], ['1 2 4']])"
      ]
     },
     "execution_count": 39,
     "metadata": {},
     "output_type": "execute_result"
    }
   ],
   "source": [
    "diccionario.values()"
   ]
  },
  {
   "attachments": {},
   "cell_type": "markdown",
   "metadata": {},
   "source": [
    ". Para extraer los values de una key podemos hacerlo de varias formas. Extraed los valores de la key nombres. Utilizad dos métodos diferentes."
   ]
  },
  {
   "cell_type": "code",
   "execution_count": 42,
   "metadata": {},
   "outputs": [
    {
     "name": "stdout",
     "output_type": "stream",
     "text": [
      "['Ana Pepa Maria']\n"
     ]
    },
    {
     "data": {
      "text/plain": [
       "['Ana Pepa Maria']"
      ]
     },
     "execution_count": 42,
     "metadata": {},
     "output_type": "execute_result"
    }
   ],
   "source": [
    "# extraer los valores de la key 'nombres' de dos maneras\n",
    "\n",
    "print(diccionario['nombres'])\n",
    "\n",
    "diccionario.get('nombres')"
   ]
  },
  {
   "attachments": {},
   "cell_type": "markdown",
   "metadata": {},
   "source": [
    ". Extraed los valores de la key nacionalidad. En caso de que no exista, cread esa key con el value \"desconocida\"."
   ]
  },
  {
   "cell_type": "code",
   "execution_count": 46,
   "metadata": {},
   "outputs": [
    {
     "data": {
      "text/plain": [
       "'desconocida'"
      ]
     },
     "execution_count": 46,
     "metadata": {},
     "output_type": "execute_result"
    }
   ],
   "source": [
    "# extraer los valores de la key 'nacionalidad'. Como no existe, nos devuelve el output 'desconocida'\n",
    "\n",
    "diccionario.get('nacionalidad', 'desconocida')"
   ]
  },
  {
   "cell_type": "code",
   "execution_count": 51,
   "metadata": {},
   "outputs": [
    {
     "data": {
      "text/plain": [
       "'desconocida'"
      ]
     },
     "execution_count": 51,
     "metadata": {},
     "output_type": "execute_result"
    }
   ],
   "source": [
    "diccionario.setdefault('nacionalidad', ['desconocida'])"
   ]
  },
  {
   "cell_type": "code",
   "execution_count": 52,
   "metadata": {},
   "outputs": [
    {
     "data": {
      "text/plain": [
       "{'nombres': ['Ana Pepa Maria'],\n",
       " 'apellidos': ['Gallego Bernabeu García'],\n",
       " 'edades': ['25 30 35'],\n",
       " 'hijos': ['2 3 1'],\n",
       " 'hermanos': ['1 2 4'],\n",
       " 'nacionalidad': 'desconocida'}"
      ]
     },
     "execution_count": 52,
     "metadata": {},
     "output_type": "execute_result"
    }
   ],
   "source": [
    "# no nos coge el value 'desconocida' como lista revisar\n",
    "\n",
    "diccionario"
   ]
  },
  {
   "attachments": {},
   "cell_type": "markdown",
   "metadata": {},
   "source": [
    ". Ordena los elementos del diccionario basándonos en las keys y los values. Esto nos devuelve una lista de tuplas(todavía no hemos visto este tipo de datos, pero lo veremos en la lección de mañana). Convertid esta lista de tuplas en diccionario."
   ]
  },
  {
   "attachments": {},
   "cell_type": "markdown",
   "metadata": {},
   "source": [
    ". Eliminad la key \"nacionalidad\""
   ]
  },
  {
   "attachments": {},
   "cell_type": "markdown",
   "metadata": {},
   "source": [
    ". Utilizando métodos de Python. ¿Qué persona tiene mayor número de hijos? ¿Y quién es la más joven?"
   ]
  }
 ],
 "metadata": {
  "kernelspec": {
   "display_name": "Python 3",
   "language": "python",
   "name": "python3"
  },
  "language_info": {
   "codemirror_mode": {
    "name": "ipython",
    "version": 3
   },
   "file_extension": ".py",
   "mimetype": "text/x-python",
   "name": "python",
   "nbconvert_exporter": "python",
   "pygments_lexer": "ipython3",
   "version": "3.6.9"
  },
  "orig_nbformat": 4,
  "vscode": {
   "interpreter": {
    "hash": "31f2aee4e71d21fbe5cf8b01ff0e069b9275f58929596ceb00d14d90e3e16cd6"
   }
  }
 },
 "nbformat": 4,
 "nbformat_minor": 2
}
